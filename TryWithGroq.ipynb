{
  "cells": [
    {
      "cell_type": "code",
      "execution_count": 1,
      "metadata": {
        "colab": {
          "base_uri": "https://localhost:8080/"
        },
        "id": "ChDhf0Ih7sOy",
        "outputId": "f2d05fa8-d196-4595-acc3-1c06cf43aca3"
      },
      "outputs": [
        {
          "output_type": "stream",
          "name": "stdout",
          "text": [
            "Collecting groq\n",
            "  Downloading groq-0.9.0-py3-none-any.whl.metadata (13 kB)\n",
            "Requirement already satisfied: anyio<5,>=3.5.0 in /usr/local/lib/python3.10/dist-packages (from groq) (3.7.1)\n",
            "Requirement already satisfied: distro<2,>=1.7.0 in /usr/lib/python3/dist-packages (from groq) (1.7.0)\n",
            "Collecting httpx<1,>=0.23.0 (from groq)\n",
            "  Downloading httpx-0.27.0-py3-none-any.whl.metadata (7.2 kB)\n",
            "Requirement already satisfied: pydantic<3,>=1.9.0 in /usr/local/lib/python3.10/dist-packages (from groq) (2.8.2)\n",
            "Requirement already satisfied: sniffio in /usr/local/lib/python3.10/dist-packages (from groq) (1.3.1)\n",
            "Requirement already satisfied: typing-extensions<5,>=4.7 in /usr/local/lib/python3.10/dist-packages (from groq) (4.12.2)\n",
            "Requirement already satisfied: idna>=2.8 in /usr/local/lib/python3.10/dist-packages (from anyio<5,>=3.5.0->groq) (3.7)\n",
            "Requirement already satisfied: exceptiongroup in /usr/local/lib/python3.10/dist-packages (from anyio<5,>=3.5.0->groq) (1.2.2)\n",
            "Requirement already satisfied: certifi in /usr/local/lib/python3.10/dist-packages (from httpx<1,>=0.23.0->groq) (2024.7.4)\n",
            "Collecting httpcore==1.* (from httpx<1,>=0.23.0->groq)\n",
            "  Downloading httpcore-1.0.5-py3-none-any.whl.metadata (20 kB)\n",
            "Collecting h11<0.15,>=0.13 (from httpcore==1.*->httpx<1,>=0.23.0->groq)\n",
            "  Downloading h11-0.14.0-py3-none-any.whl.metadata (8.2 kB)\n",
            "Requirement already satisfied: annotated-types>=0.4.0 in /usr/local/lib/python3.10/dist-packages (from pydantic<3,>=1.9.0->groq) (0.7.0)\n",
            "Requirement already satisfied: pydantic-core==2.20.1 in /usr/local/lib/python3.10/dist-packages (from pydantic<3,>=1.9.0->groq) (2.20.1)\n",
            "Downloading groq-0.9.0-py3-none-any.whl (103 kB)\n",
            "\u001b[2K   \u001b[90m━━━━━━━━━━━━━━━━━━━━━━━━━━━━━━━━━━━━━━━━\u001b[0m \u001b[32m103.5/103.5 kB\u001b[0m \u001b[31m1.7 MB/s\u001b[0m eta \u001b[36m0:00:00\u001b[0m\n",
            "\u001b[?25hDownloading httpx-0.27.0-py3-none-any.whl (75 kB)\n",
            "\u001b[2K   \u001b[90m━━━━━━━━━━━━━━━━━━━━━━━━━━━━━━━━━━━━━━━━\u001b[0m \u001b[32m75.6/75.6 kB\u001b[0m \u001b[31m2.7 MB/s\u001b[0m eta \u001b[36m0:00:00\u001b[0m\n",
            "\u001b[?25hDownloading httpcore-1.0.5-py3-none-any.whl (77 kB)\n",
            "\u001b[2K   \u001b[90m━━━━━━━━━━━━━━━━━━━━━━━━━━━━━━━━━━━━━━━━\u001b[0m \u001b[32m77.9/77.9 kB\u001b[0m \u001b[31m6.0 MB/s\u001b[0m eta \u001b[36m0:00:00\u001b[0m\n",
            "\u001b[?25hDownloading h11-0.14.0-py3-none-any.whl (58 kB)\n",
            "\u001b[2K   \u001b[90m━━━━━━━━━━━━━━━━━━━━━━━━━━━━━━━━━━━━━━━━\u001b[0m \u001b[32m58.3/58.3 kB\u001b[0m \u001b[31m4.1 MB/s\u001b[0m eta \u001b[36m0:00:00\u001b[0m\n",
            "\u001b[?25hInstalling collected packages: h11, httpcore, httpx, groq\n",
            "Successfully installed groq-0.9.0 h11-0.14.0 httpcore-1.0.5 httpx-0.27.0\n"
          ]
        }
      ],
      "source": [
        "!pip install groq"
      ]
    },
    {
      "cell_type": "code",
      "execution_count": 2,
      "metadata": {
        "id": "v_BF7RpK76-c"
      },
      "outputs": [],
      "source": [
        "from groq import Groq"
      ]
    },
    {
      "cell_type": "code",
      "execution_count": 3,
      "metadata": {
        "id": "zYAT8CEC7_eM"
      },
      "outputs": [],
      "source": [
        "client = Groq(api_key = \"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\")"
      ]
    },
    {
      "cell_type": "code",
      "source": [
        "prompt1 = 'You are a smart driving assistant. You, the \\'ego\\' car, are now driving on a highway. You need to recommend ONLY ONE best action among the following set of actions based on the current scenario: \\n \\\n",
        "\\t1. IDLE -- maintain the current speed in the current lane \\n \\\n",
        "\\t2. FASTER -- accelerate the ego vehicle \\n \\\n",
        "\\t3. SLOWER -- decelerate the ego vehicle \\n \\\n",
        "\\t4. LANE_LEFT -- change to the adjacent left lane \\n \\\n",
        "\\t5. LANE_RIGHT -- change to the adjacent right lane\\n'\n",
        "\n",
        "assist1 = 'Understood. Please provide the current scenario or conditions, such as traffic density, speed of surrounding vehicles, your current speed, and any other relevant information, so I can recommend the best action.'\n",
        "\n",
        "prompt2 = 'Here is the current scenario:\\n \\\n",
        "There are four lanes on the highway: Lane-1 (left most), Lane-2, Lane-3, Lane-4 (right most). \\n \\\n",
        "\\n \\\n",
        "Ego vehicle:\\n \\\n",
        "\\tCurrent lane: Lane-2\\n \\\n",
        "\\tLeft lane: Lane-1\\n \\\n",
        "\\tRight lane: Lane-3\\n \\\n",
        "\\tCurrent speed: 25m/s\\n \\\n",
        "\\n \\\n",
        "Lane info:\\n \\\n",
        "\\tLane-1: There are 4 vehicles in this lane ahead of ego vehicle, closest being 10.3 m ahead traveling at 23.3 m\\/s.\\n \\\n",
        "\\tLane-2: There are 2 vehicles in this lane ahead of ego vehicle, closest being 8.1 m ahead traveling at 21.5 m/s.\\n \\\n",
        "\\tLane-3: There is 1 vehicle in this lane ahead of ego vehicle, closest being 9.7 m ahead traveling at 24.4 m/s.\\n \\\n",
        "\\tLane-4: This lane is empty.\\n \\\n",
        "\\n \\\n",
        "Attention points:\\n \\\n",
        "\\t1. SLOWER has least priority and should be used only when no other action is safe.\\n \\\n",
        "\\t2. DO NOT change lanes frequently.\\n \\\n",
        "\\t3. Safety is priority, but do not forget efficiency.\\n \\\n",
        "\\n \\\n",
        "Please generate one best answer for this situation. Once you make a final decision, output it in the following format:\\n```\\nFinal Answer: \"decision\": {\"<ego car\\'s 1st decision, ONE of the available actions>\"},\\n```'"
      ],
      "metadata": {
        "id": "DCi9hyOhRltk"
      },
      "execution_count": 4,
      "outputs": []
    },
    {
      "cell_type": "code",
      "execution_count": 6,
      "metadata": {
        "colab": {
          "base_uri": "https://localhost:8080/"
        },
        "id": "rZybESIx82Nk",
        "outputId": "407fcda0-6bf3-4ef1-b1ae-0a077d07a2f0"
      },
      "outputs": [
        {
          "output_type": "stream",
          "name": "stdout",
          "text": [
            "Final Answer: \"decision\": {\"LANE_RIGHT\"},\n"
          ]
        }
      ],
      "source": [
        "chat_completion = client.chat.completions.create(messages=[{\"role\": \"user\", \"content\": prompt1},\n",
        "                                                           {\"role\": \"assistant\", \"content\": assist1},\n",
        "                                                           {\"role\": \"user\", \"content\": prompt2}], model=\"llama3-groq-70b-8192-tool-use-preview\")\n",
        "print(chat_completion.choices[0].message.content)"
      ]
    }
  ],
  "metadata": {
    "accelerator": "GPU",
    "colab": {
      "gpuType": "T4",
      "provenance": []
    },
    "kernelspec": {
      "display_name": "Python 3",
      "name": "python3"
    },
    "language_info": {
      "name": "python"
    }
  },
  "nbformat": 4,
  "nbformat_minor": 0
}